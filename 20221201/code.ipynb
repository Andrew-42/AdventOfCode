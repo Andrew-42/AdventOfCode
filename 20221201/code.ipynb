{
 "cells": [
  {
   "cell_type": "code",
   "execution_count": 4,
   "metadata": {},
   "outputs": [
    {
     "data": {
      "text/plain": [
       "['11223',\n",
       " '6323',\n",
       " '10725',\n",
       " '10761',\n",
       " '3587',\n",
       " '',\n",
       " '1274',\n",
       " '1041',\n",
       " '5566',\n",
       " '1759',\n",
       " '1372',\n",
       " '1619',\n",
       " '2228',\n",
       " '1283',\n",
       " '1981']"
      ]
     },
     "execution_count": 4,
     "metadata": {},
     "output_type": "execute_result"
    }
   ],
   "source": [
    "with open('input.txt', 'r') as f:\n",
    "    raw_data = f.readlines()\n",
    "data = [cal.strip() for cal in raw_data]\n",
    "data[:15]"
   ]
  },
  {
   "cell_type": "code",
   "execution_count": 9,
   "metadata": {},
   "outputs": [],
   "source": [
    "elf_split = []\n",
    "elf_rations = []\n",
    "for item in data:\n",
    "    if item == '':\n",
    "        elf_split.append(elf_rations)\n",
    "        elf_rations = []\n",
    "        continue\n",
    "    elf_rations.append(int(item))"
   ]
  },
  {
   "cell_type": "code",
   "execution_count": 10,
   "metadata": {},
   "outputs": [
    {
     "data": {
      "text/plain": [
       "[42619,\n",
       " 40703,\n",
       " 48143,\n",
       " 49459,\n",
       " 39036,\n",
       " 33492,\n",
       " 52701,\n",
       " 55636,\n",
       " 37336,\n",
       " 27814,\n",
       " 56510,\n",
       " 53333,\n",
       " 58834,\n",
       " 38259,\n",
       " 41808,\n",
       " 48917,\n",
       " 45771,\n",
       " 48739,\n",
       " 47120,\n",
       " 63236,\n",
       " 45213,\n",
       " 12580,\n",
       " 55932,\n",
       " 49882,\n",
       " 59165,\n",
       " 53917,\n",
       " 63217,\n",
       " 63003,\n",
       " 36518,\n",
       " 44168,\n",
       " 21396,\n",
       " 40688,\n",
       " 46190,\n",
       " 48592,\n",
       " 37497,\n",
       " 67849,\n",
       " 49112,\n",
       " 55769,\n",
       " 48906,\n",
       " 40307,\n",
       " 63195,\n",
       " 56035,\n",
       " 58422,\n",
       " 56746,\n",
       " 67337,\n",
       " 48013,\n",
       " 13351,\n",
       " 39413,\n",
       " 36743,\n",
       " 45119,\n",
       " 36512,\n",
       " 41185,\n",
       " 58748,\n",
       " 50022,\n",
       " 54374,\n",
       " 44852,\n",
       " 50989,\n",
       " 25505,\n",
       " 55895,\n",
       " 45794,\n",
       " 38739,\n",
       " 38304,\n",
       " 50674,\n",
       " 49295,\n",
       " 16292,\n",
       " 45340,\n",
       " 47177,\n",
       " 64011,\n",
       " 47541,\n",
       " 47884,\n",
       " 31996,\n",
       " 61763,\n",
       " 52696,\n",
       " 49929,\n",
       " 43780,\n",
       " 48495,\n",
       " 35518,\n",
       " 48867,\n",
       " 44954,\n",
       " 38262,\n",
       " 45203,\n",
       " 55865,\n",
       " 54729,\n",
       " 36705,\n",
       " 69814,\n",
       " 54548,\n",
       " 27528,\n",
       " 57881,\n",
       " 42585,\n",
       " 51329,\n",
       " 38828,\n",
       " 52423,\n",
       " 51007,\n",
       " 48329,\n",
       " 57487,\n",
       " 52406,\n",
       " 45085,\n",
       " 51219,\n",
       " 35591,\n",
       " 50633,\n",
       " 54795,\n",
       " 57866,\n",
       " 36803,\n",
       " 35242,\n",
       " 40449,\n",
       " 59112,\n",
       " 51368,\n",
       " 55857,\n",
       " 46415,\n",
       " 46400,\n",
       " 53789,\n",
       " 54692,\n",
       " 48416,\n",
       " 42331,\n",
       " 53574,\n",
       " 56178,\n",
       " 50405,\n",
       " 65614,\n",
       " 48480,\n",
       " 43645,\n",
       " 47184,\n",
       " 48835,\n",
       " 56133,\n",
       " 58064,\n",
       " 12398,\n",
       " 54048,\n",
       " 31420,\n",
       " 49430,\n",
       " 50621,\n",
       " 51024,\n",
       " 42221,\n",
       " 47516,\n",
       " 58146,\n",
       " 57626,\n",
       " 61547,\n",
       " 41189,\n",
       " 49549,\n",
       " 45137,\n",
       " 44572,\n",
       " 39749,\n",
       " 54610,\n",
       " 47782,\n",
       " 30993,\n",
       " 59649,\n",
       " 51461,\n",
       " 23509,\n",
       " 57677,\n",
       " 57451,\n",
       " 41690,\n",
       " 58461,\n",
       " 49584,\n",
       " 37036,\n",
       " 54327,\n",
       " 44951,\n",
       " 58179,\n",
       " 35456,\n",
       " 63316,\n",
       " 51305,\n",
       " 49205,\n",
       " 58083,\n",
       " 48143,\n",
       " 29952,\n",
       " 35614,\n",
       " 33953,\n",
       " 56871,\n",
       " 58002,\n",
       " 32295,\n",
       " 59254,\n",
       " 46133,\n",
       " 11615,\n",
       " 45144,\n",
       " 28733,\n",
       " 44415,\n",
       " 48616,\n",
       " 37318,\n",
       " 41527,\n",
       " 30339,\n",
       " 58345,\n",
       " 64766,\n",
       " 48673,\n",
       " 51090,\n",
       " 29542,\n",
       " 54143,\n",
       " 52429,\n",
       " 47295,\n",
       " 72511,\n",
       " 46859,\n",
       " 25444,\n",
       " 69792,\n",
       " 47349,\n",
       " 54388,\n",
       " 17501,\n",
       " 59076,\n",
       " 51477,\n",
       " 52786,\n",
       " 43346,\n",
       " 35193,\n",
       " 50584,\n",
       " 66790,\n",
       " 59745,\n",
       " 53071,\n",
       " 50490,\n",
       " 57254,\n",
       " 48011,\n",
       " 50584,\n",
       " 45233,\n",
       " 51085,\n",
       " 46359,\n",
       " 60560,\n",
       " 54486,\n",
       " 53365,\n",
       " 60816,\n",
       " 64741,\n",
       " 23738,\n",
       " 25649,\n",
       " 42821,\n",
       " 48270,\n",
       " 37018,\n",
       " 58169,\n",
       " 52150,\n",
       " 56458,\n",
       " 33966,\n",
       " 48068,\n",
       " 49304,\n",
       " 56876,\n",
       " 44994,\n",
       " 57847,\n",
       " 52265,\n",
       " 14451,\n",
       " 54309,\n",
       " 50400,\n",
       " 41582,\n",
       " 42131,\n",
       " 46911,\n",
       " 49627,\n",
       " 16644,\n",
       " 6134,\n",
       " 33424,\n",
       " 47943,\n",
       " 43861,\n",
       " 29241,\n",
       " 19031,\n",
       " 14044,\n",
       " 36200,\n",
       " 50283,\n",
       " 51764,\n",
       " 59613,\n",
       " 38352,\n",
       " 67760,\n",
       " 56831]"
      ]
     },
     "execution_count": 10,
     "metadata": {},
     "output_type": "execute_result"
    }
   ],
   "source": [
    "sums = [sum(elf_r) for elf_r in elf_split]\n",
    "sums"
   ]
  },
  {
   "cell_type": "code",
   "execution_count": 13,
   "metadata": {},
   "outputs": [
    {
     "data": {
      "text/plain": [
       "185"
      ]
     },
     "execution_count": 13,
     "metadata": {},
     "output_type": "execute_result"
    }
   ],
   "source": [
    "max(range(len(sums)), key=lambda i: sums[i])"
   ]
  },
  {
   "cell_type": "code",
   "execution_count": 16,
   "metadata": {},
   "outputs": [
    {
     "data": {
      "text/plain": [
       "(72511, 72511)"
      ]
     },
     "execution_count": 16,
     "metadata": {},
     "output_type": "execute_result"
    }
   ],
   "source": [
    "sums[185], max(sums)"
   ]
  },
  {
   "cell_type": "code",
   "execution_count": 22,
   "metadata": {},
   "outputs": [
    {
     "data": {
      "text/plain": [
       "[69792, 69814, 72511]"
      ]
     },
     "execution_count": 22,
     "metadata": {},
     "output_type": "execute_result"
    }
   ],
   "source": [
    "top_three = sorted(sums)[-3:]\n",
    "top_three"
   ]
  },
  {
   "cell_type": "code",
   "execution_count": 23,
   "metadata": {},
   "outputs": [
    {
     "data": {
      "text/plain": [
       "212117"
      ]
     },
     "execution_count": 23,
     "metadata": {},
     "output_type": "execute_result"
    }
   ],
   "source": [
    "sum(top_three)"
   ]
  }
 ],
 "metadata": {
  "kernelspec": {
   "display_name": "Python 3.10.6 ('.venv': venv)",
   "language": "python",
   "name": "python3"
  },
  "language_info": {
   "codemirror_mode": {
    "name": "ipython",
    "version": 3
   },
   "file_extension": ".py",
   "mimetype": "text/x-python",
   "name": "python",
   "nbconvert_exporter": "python",
   "pygments_lexer": "ipython3",
   "version": "3.10.6"
  },
  "orig_nbformat": 4,
  "vscode": {
   "interpreter": {
    "hash": "9ac54d43509d07df6231d18a26e5ad4832d18b9f032ef4e26bb774d8a38e5bd3"
   }
  }
 },
 "nbformat": 4,
 "nbformat_minor": 2
}
